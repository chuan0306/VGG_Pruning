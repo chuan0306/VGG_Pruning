{
  "cells": [
    {
      "cell_type": "markdown",
      "metadata": {
        "id": "Lk6d9yOhuSkr"
      },
      "source": [
        "## 掛載雲端硬碟"
      ]
    },
    {
      "cell_type": "code",
      "execution_count": 13,
      "metadata": {
        "colab": {
          "base_uri": "https://localhost:8080/"
        },
        "id": "3NTpFfZGuVSx",
        "outputId": "f7eeb6f7-392c-45de-9f3c-f76ab9a13922"
      },
      "outputs": [
        {
          "name": "stdout",
          "output_type": "stream",
          "text": [
            "Drive already mounted at /content/drive; to attempt to forcibly remount, call drive.mount(\"/content/drive\", force_remount=True).\n"
          ]
        }
      ],
      "source": [
        "from google.colab import drive\n",
        "drive.mount('/content/drive')"
      ]
    },
    {
      "cell_type": "markdown",
      "metadata": {
        "id": "VEETyGg0uZnb"
      },
      "source": [
        "##複製Lab5到目前目錄"
      ]
    },
    {
      "cell_type": "code",
      "execution_count": 14,
      "metadata": {
        "id": "Wum2GQmwucfZ"
      },
      "outputs": [],
      "source": [
        "!cp -a /content/drive/MyDrive/Colab\\ Notebooks/* ./"
      ]
    },
    {
      "cell_type": "markdown",
      "metadata": {
        "id": "S9NTZ1VEtbV7"
      },
      "source": [
        "## 載入函式庫\n"
      ]
    },
    {
      "cell_type": "code",
      "execution_count": 15,
      "metadata": {
        "id": "vCvF-fM0tfsq"
      },
      "outputs": [],
      "source": [
        "import os\n",
        "\n",
        "import torch\n",
        "import torch.nn as nn\n",
        "from torch.autograd import Variable\n",
        "from torchvision import datasets, transforms\n",
        "import numpy as np\n",
        "import matplotlib.pyplot as plt\n",
        "\n",
        "from models import vgg"
      ]
    },
    {
      "cell_type": "markdown",
      "metadata": {
        "id": "_X_r4dtMuwbh"
      },
      "source": [
        "##超參數設定"
      ]
    },
    {
      "cell_type": "code",
      "execution_count": 16,
      "metadata": {
        "id": "_2NkY0LyuyQh"
      },
      "outputs": [],
      "source": [
        "DATASET = 'cifar10'\n",
        "TEST_BATCH_SIZE = 1000\n",
        "CUDA = True\n",
        "# PRUNE_PERCENT = 0.5\n",
        "PRUNE_PERCENT = 0.9\n",
        "WEIGHT_PATH = '/content/drive/MyDrive/Colab Notebooks/model_best.pth'\n",
        "PRUNE_PATH = '/content/drive/MyDrive/Colab Notebooks/model_prune.pth' \n"
      ]
    },
    {
      "cell_type": "markdown",
      "metadata": {
        "id": "L7z4dkhJwB4Z"
      },
      "source": [
        "##載入模型"
      ]
    },
    {
      "cell_type": "code",
      "execution_count": 17,
      "metadata": {
        "colab": {
          "base_uri": "https://localhost:8080/"
        },
        "id": "lpIqnhfKwEcJ",
        "outputId": "f3ad3851-44b4-4a2c-b37b-59bdb996810b"
      },
      "outputs": [
        {
          "name": "stdout",
          "output_type": "stream",
          "text": [
            "LOADING CHECKPOINT /content/drive/MyDrive/Colab Notebooks/model_best.pth @EPOCH=94, BEST_PREC1=0.9085000157356262\n",
            "vgg(\n",
            "  (feature): Sequential(\n",
            "    (0): Conv2d(3, 64, kernel_size=(3, 3), stride=(1, 1), padding=(1, 1), bias=False)\n",
            "    (1): BatchNorm2d(64, eps=1e-05, momentum=0.1, affine=True, track_running_stats=True)\n",
            "    (2): ReLU(inplace=True)\n",
            "    (3): Conv2d(64, 64, kernel_size=(3, 3), stride=(1, 1), padding=(1, 1), bias=False)\n",
            "    (4): BatchNorm2d(64, eps=1e-05, momentum=0.1, affine=True, track_running_stats=True)\n",
            "    (5): ReLU(inplace=True)\n",
            "    (6): MaxPool2d(kernel_size=2, stride=2, padding=0, dilation=1, ceil_mode=False)\n",
            "    (7): Conv2d(64, 128, kernel_size=(3, 3), stride=(1, 1), padding=(1, 1), bias=False)\n",
            "    (8): BatchNorm2d(128, eps=1e-05, momentum=0.1, affine=True, track_running_stats=True)\n",
            "    (9): ReLU(inplace=True)\n",
            "    (10): Conv2d(128, 128, kernel_size=(3, 3), stride=(1, 1), padding=(1, 1), bias=False)\n",
            "    (11): BatchNorm2d(128, eps=1e-05, momentum=0.1, affine=True, track_running_stats=True)\n",
            "    (12): ReLU(inplace=True)\n",
            "    (13): MaxPool2d(kernel_size=2, stride=2, padding=0, dilation=1, ceil_mode=False)\n",
            "    (14): Conv2d(128, 256, kernel_size=(3, 3), stride=(1, 1), padding=(1, 1), bias=False)\n",
            "    (15): BatchNorm2d(256, eps=1e-05, momentum=0.1, affine=True, track_running_stats=True)\n",
            "    (16): ReLU(inplace=True)\n",
            "    (17): Conv2d(256, 256, kernel_size=(3, 3), stride=(1, 1), padding=(1, 1), bias=False)\n",
            "    (18): BatchNorm2d(256, eps=1e-05, momentum=0.1, affine=True, track_running_stats=True)\n",
            "    (19): ReLU(inplace=True)\n",
            "    (20): Conv2d(256, 256, kernel_size=(3, 3), stride=(1, 1), padding=(1, 1), bias=False)\n",
            "    (21): BatchNorm2d(256, eps=1e-05, momentum=0.1, affine=True, track_running_stats=True)\n",
            "    (22): ReLU(inplace=True)\n",
            "    (23): Conv2d(256, 256, kernel_size=(3, 3), stride=(1, 1), padding=(1, 1), bias=False)\n",
            "    (24): BatchNorm2d(256, eps=1e-05, momentum=0.1, affine=True, track_running_stats=True)\n",
            "    (25): ReLU(inplace=True)\n",
            "    (26): MaxPool2d(kernel_size=2, stride=2, padding=0, dilation=1, ceil_mode=False)\n",
            "    (27): Conv2d(256, 512, kernel_size=(3, 3), stride=(1, 1), padding=(1, 1), bias=False)\n",
            "    (28): BatchNorm2d(512, eps=1e-05, momentum=0.1, affine=True, track_running_stats=True)\n",
            "    (29): ReLU(inplace=True)\n",
            "    (30): Conv2d(512, 512, kernel_size=(3, 3), stride=(1, 1), padding=(1, 1), bias=False)\n",
            "    (31): BatchNorm2d(512, eps=1e-05, momentum=0.1, affine=True, track_running_stats=True)\n",
            "    (32): ReLU(inplace=True)\n",
            "    (33): Conv2d(512, 512, kernel_size=(3, 3), stride=(1, 1), padding=(1, 1), bias=False)\n",
            "    (34): BatchNorm2d(512, eps=1e-05, momentum=0.1, affine=True, track_running_stats=True)\n",
            "    (35): ReLU(inplace=True)\n",
            "    (36): Conv2d(512, 512, kernel_size=(3, 3), stride=(1, 1), padding=(1, 1), bias=False)\n",
            "    (37): BatchNorm2d(512, eps=1e-05, momentum=0.1, affine=True, track_running_stats=True)\n",
            "    (38): ReLU(inplace=True)\n",
            "    (39): MaxPool2d(kernel_size=2, stride=2, padding=0, dilation=1, ceil_mode=False)\n",
            "    (40): Conv2d(512, 512, kernel_size=(3, 3), stride=(1, 1), padding=(1, 1), bias=False)\n",
            "    (41): BatchNorm2d(512, eps=1e-05, momentum=0.1, affine=True, track_running_stats=True)\n",
            "    (42): ReLU(inplace=True)\n",
            "    (43): Conv2d(512, 512, kernel_size=(3, 3), stride=(1, 1), padding=(1, 1), bias=False)\n",
            "    (44): BatchNorm2d(512, eps=1e-05, momentum=0.1, affine=True, track_running_stats=True)\n",
            "    (45): ReLU(inplace=True)\n",
            "    (46): Conv2d(512, 512, kernel_size=(3, 3), stride=(1, 1), padding=(1, 1), bias=False)\n",
            "    (47): BatchNorm2d(512, eps=1e-05, momentum=0.1, affine=True, track_running_stats=True)\n",
            "    (48): ReLU(inplace=True)\n",
            "    (49): Conv2d(512, 512, kernel_size=(3, 3), stride=(1, 1), padding=(1, 1), bias=False)\n",
            "    (50): BatchNorm2d(512, eps=1e-05, momentum=0.1, affine=True, track_running_stats=True)\n",
            "    (51): ReLU(inplace=True)\n",
            "  )\n",
            "  (classifier): Linear(in_features=512, out_features=10, bias=True)\n",
            ")\n"
          ]
        }
      ],
      "source": [
        "CUDA = CUDA and torch.cuda.is_available()\n",
        "\n",
        "model = vgg()\n",
        "if CUDA:\n",
        "    model.cuda()\n",
        "    \n",
        "if WEIGHT_PATH:\n",
        "    if os.path.isfile(WEIGHT_PATH):\n",
        "        checkpoint = torch.load(WEIGHT_PATH)\n",
        "        best_prec1 = checkpoint['best_prec1']\n",
        "        model.load_state_dict(checkpoint['state_dict'])\n",
        "        print('LOADING CHECKPOINT {} @EPOCH={}, BEST_PREC1={}'.format(WEIGHT_PATH,checkpoint['epoch'],best_prec1))\n",
        "\n",
        "    else:\n",
        "        print(\"NO CHECKPOINT FOUND\")\n",
        "\n",
        "print(model)"
      ]
    },
    {
      "cell_type": "markdown",
      "metadata": {
        "id": "U0nUbcNtA_SA"
      },
      "source": [
        "##測試函數(觀察模型精確度)\n"
      ]
    },
    {
      "cell_type": "code",
      "execution_count": 18,
      "metadata": {
        "id": "Md44Lc-WBIaf"
      },
      "outputs": [],
      "source": [
        "def test(model):\n",
        "    kwargs = {'num_workers': 1, 'pin_memory': True} if CUDA else {}\n",
        "    test_loader = torch.utils.data.DataLoader(\n",
        "        datasets.CIFAR10('./data', train=False, download=True, transform=transforms.Compose([\n",
        "            transforms.ToTensor(),\n",
        "            transforms.Normalize((0.5, 0.5, 0.5), (0.5, 0.5, 0.5))])),\n",
        "        batch_size=TEST_BATCH_SIZE, shuffle=True, **kwargs)\n",
        "    model.eval()\n",
        "    correct = 0\n",
        "    with torch.no_grad():\n",
        "      for data, target in test_loader:\n",
        "          if CUDA:\n",
        "              data, target = data.cuda(), target.cuda()\n",
        "          data, target = Variable(data), Variable(target)\n",
        "          output = model(data)\n",
        "          pred = output.data.max(1, keepdim=True)[1]\n",
        "          correct += pred.eq(target.data.view_as(pred)).cpu().sum()\n",
        "\n",
        "    print('\\nTest set: Accuracy: {}/{} ({:.1f}%)\\n'.format(\n",
        "        correct, len(test_loader.dataset), 100. * correct / len(test_loader.dataset)))\n",
        "    return correct / float(len(test_loader.dataset))"
      ]
    },
    {
      "cell_type": "markdown",
      "metadata": {
        "id": "srauYOD-1vSp"
      },
      "source": [
        "## 進行剪枝\n",
        "#### 計算所有Batch Nromalizaiton中的scale factor絕對值大小並排序\n",
        "#### 利用PRUNE_RATIO中取得閥值"
      ]
    },
    {
      "cell_type": "code",
      "execution_count": 19,
      "metadata": {
        "id": "xgtUBaDw1uuR"
      },
      "outputs": [],
      "source": [
        "total = 0\n",
        "for m in model.modules():\n",
        "    if isinstance(m, nn.BatchNorm2d):\n",
        "        total += m.weight.data.shape[0]\n",
        "\n",
        "bn = torch.zeros(total)\n",
        "index = 0\n",
        "for m in model.modules():\n",
        "    if isinstance(m, nn.BatchNorm2d):\n",
        "        size = m.weight.data.shape[0]\n",
        "        bn[index:(index+size)] = m.weight.data.abs().clone()\n",
        "        index += size\n",
        "\n",
        "y, i = torch.sort(bn)\n",
        "\n",
        "threshold_index = int(total * PRUNE_PERCENT)\n",
        "threshold = y[threshold_index]\n"
      ]
    },
    {
      "cell_type": "markdown",
      "metadata": {
        "id": "1sy0JNTN-h3B"
      },
      "source": [
        "##建立CONFIG，之後建立剪枝後網路時需要用到此CONFIG"
      ]
    },
    {
      "cell_type": "code",
      "execution_count": 20,
      "metadata": {
        "id": "PBklaqUZHnvp"
      },
      "outputs": [],
      "source": [
        "pruned = 0 \n",
        "cfg = []  #用來建立剪枝網路的CONFIG\n",
        "cfg_mask = [] #用來幫助剪枝的遮罩"
      ]
    },
    {
      "cell_type": "markdown",
      "metadata": {
        "id": "66vDWd5BMmph"
      },
      "source": [
        "##根據Batch Normalization Layer資訊建立CONFIG\n",
        "####1.複製Batch Normalization Layer的weight(也就是scale factor)\n",
        "####2.建立mask，大於threshold的index的值會設成1,小於threshold的值會設成0\n",
        "####3.大於threshold的index的值加總後，會是剪枝後Layer對應的輸出channel\n",
        "####4.最後得到要建立剪枝模型的CONFIG"
      ]
    },
    {
      "cell_type": "code",
      "execution_count": 21,
      "metadata": {
        "colab": {
          "base_uri": "https://localhost:8080/"
        },
        "id": "10ilGgoZ1SR1",
        "outputId": "86ef18b4-1c8f-41fe-f9a7-b648b38d5665"
      },
      "outputs": [
        {
          "name": "stdout",
          "output_type": "stream",
          "text": [
            "tensor(17., device='cuda:0')\n",
            "layer index: 3 \t total channel: 64 \t remaining channel: 17\n",
            "tensor(44., device='cuda:0')\n",
            "layer index: 6 \t total channel: 64 \t remaining channel: 44\n",
            "tensor(54., device='cuda:0')\n",
            "layer index: 10 \t total channel: 128 \t remaining channel: 54\n",
            "tensor(65., device='cuda:0')\n",
            "layer index: 13 \t total channel: 128 \t remaining channel: 65\n",
            "tensor(78., device='cuda:0')\n",
            "layer index: 17 \t total channel: 256 \t remaining channel: 78\n",
            "tensor(57., device='cuda:0')\n",
            "layer index: 20 \t total channel: 256 \t remaining channel: 57\n",
            "tensor(56., device='cuda:0')\n",
            "layer index: 23 \t total channel: 256 \t remaining channel: 56\n",
            "tensor(44., device='cuda:0')\n",
            "layer index: 26 \t total channel: 256 \t remaining channel: 44\n",
            "tensor(26., device='cuda:0')\n",
            "layer index: 30 \t total channel: 512 \t remaining channel: 26\n",
            "tensor(25., device='cuda:0')\n",
            "layer index: 33 \t total channel: 512 \t remaining channel: 25\n",
            "tensor(10., device='cuda:0')\n",
            "layer index: 36 \t total channel: 512 \t remaining channel: 10\n",
            "tensor(19., device='cuda:0')\n",
            "layer index: 39 \t total channel: 512 \t remaining channel: 19\n",
            "tensor(18., device='cuda:0')\n",
            "layer index: 43 \t total channel: 512 \t remaining channel: 18\n",
            "tensor(11., device='cuda:0')\n",
            "layer index: 46 \t total channel: 512 \t remaining channel: 11\n",
            "tensor(13., device='cuda:0')\n",
            "layer index: 49 \t total channel: 512 \t remaining channel: 13\n",
            "tensor(13., device='cuda:0')\n",
            "layer index: 52 \t total channel: 512 \t remaining channel: 13\n",
            "PRUNE RATIO=0.9000726938247681\n",
            "PREPROCESSING SUCCESSFUL!\n",
            "[17, 44, 'M', 54, 65, 'M', 78, 57, 56, 44, 'M', 26, 25, 10, 19, 'M', 18, 11, 13, 13]\n"
          ]
        }
      ],
      "source": [
        "for k, m in enumerate(model.modules()):\n",
        "    if isinstance(m, nn.BatchNorm2d):\n",
        "        weight_copy = m.weight.data.clone()\n",
        "        mask = weight_copy.abs().gt(threshold).float().cuda()\n",
        "        print(torch.sum(mask))\n",
        "        \n",
        "        pruned = pruned + mask.shape[0] - torch.sum(mask)\n",
        "        cfg.append(int(torch.sum(mask)))\n",
        "        cfg_mask.append(mask.clone())\n",
        "        print('layer index: {:d} \\t total channel: {:d} \\t remaining channel: {:d}'.\n",
        "            format(k, mask.shape[0], int(torch.sum(mask))))\n",
        "    elif isinstance(m, nn.MaxPool2d):\n",
        "        cfg.append('M')\n",
        "\n",
        "pruned_ratio = pruned/total\n",
        "\n",
        "print(f'PRUNE RATIO={pruned_ratio}')\n",
        "print('PREPROCESSING SUCCESSFUL!')\n",
        "\n",
        "print(cfg)"
      ]
    },
    {
      "cell_type": "markdown",
      "metadata": {
        "id": "_ha2BuBl1ifM"
      },
      "source": [
        "###建立剪枝模型"
      ]
    },
    {
      "cell_type": "code",
      "execution_count": 22,
      "metadata": {
        "colab": {
          "base_uri": "https://localhost:8080/"
        },
        "id": "SlWNdj2f1nWs",
        "outputId": "d2cc0bc5-83a3-4084-acf5-acd1d30c3520"
      },
      "outputs": [
        {
          "data": {
            "text/plain": [
              "vgg(\n",
              "  (feature): Sequential(\n",
              "    (0): Conv2d(3, 17, kernel_size=(3, 3), stride=(1, 1), padding=(1, 1), bias=False)\n",
              "    (1): BatchNorm2d(17, eps=1e-05, momentum=0.1, affine=True, track_running_stats=True)\n",
              "    (2): ReLU(inplace=True)\n",
              "    (3): Conv2d(17, 44, kernel_size=(3, 3), stride=(1, 1), padding=(1, 1), bias=False)\n",
              "    (4): BatchNorm2d(44, eps=1e-05, momentum=0.1, affine=True, track_running_stats=True)\n",
              "    (5): ReLU(inplace=True)\n",
              "    (6): MaxPool2d(kernel_size=2, stride=2, padding=0, dilation=1, ceil_mode=False)\n",
              "    (7): Conv2d(44, 54, kernel_size=(3, 3), stride=(1, 1), padding=(1, 1), bias=False)\n",
              "    (8): BatchNorm2d(54, eps=1e-05, momentum=0.1, affine=True, track_running_stats=True)\n",
              "    (9): ReLU(inplace=True)\n",
              "    (10): Conv2d(54, 65, kernel_size=(3, 3), stride=(1, 1), padding=(1, 1), bias=False)\n",
              "    (11): BatchNorm2d(65, eps=1e-05, momentum=0.1, affine=True, track_running_stats=True)\n",
              "    (12): ReLU(inplace=True)\n",
              "    (13): MaxPool2d(kernel_size=2, stride=2, padding=0, dilation=1, ceil_mode=False)\n",
              "    (14): Conv2d(65, 78, kernel_size=(3, 3), stride=(1, 1), padding=(1, 1), bias=False)\n",
              "    (15): BatchNorm2d(78, eps=1e-05, momentum=0.1, affine=True, track_running_stats=True)\n",
              "    (16): ReLU(inplace=True)\n",
              "    (17): Conv2d(78, 57, kernel_size=(3, 3), stride=(1, 1), padding=(1, 1), bias=False)\n",
              "    (18): BatchNorm2d(57, eps=1e-05, momentum=0.1, affine=True, track_running_stats=True)\n",
              "    (19): ReLU(inplace=True)\n",
              "    (20): Conv2d(57, 56, kernel_size=(3, 3), stride=(1, 1), padding=(1, 1), bias=False)\n",
              "    (21): BatchNorm2d(56, eps=1e-05, momentum=0.1, affine=True, track_running_stats=True)\n",
              "    (22): ReLU(inplace=True)\n",
              "    (23): Conv2d(56, 44, kernel_size=(3, 3), stride=(1, 1), padding=(1, 1), bias=False)\n",
              "    (24): BatchNorm2d(44, eps=1e-05, momentum=0.1, affine=True, track_running_stats=True)\n",
              "    (25): ReLU(inplace=True)\n",
              "    (26): MaxPool2d(kernel_size=2, stride=2, padding=0, dilation=1, ceil_mode=False)\n",
              "    (27): Conv2d(44, 26, kernel_size=(3, 3), stride=(1, 1), padding=(1, 1), bias=False)\n",
              "    (28): BatchNorm2d(26, eps=1e-05, momentum=0.1, affine=True, track_running_stats=True)\n",
              "    (29): ReLU(inplace=True)\n",
              "    (30): Conv2d(26, 25, kernel_size=(3, 3), stride=(1, 1), padding=(1, 1), bias=False)\n",
              "    (31): BatchNorm2d(25, eps=1e-05, momentum=0.1, affine=True, track_running_stats=True)\n",
              "    (32): ReLU(inplace=True)\n",
              "    (33): Conv2d(25, 10, kernel_size=(3, 3), stride=(1, 1), padding=(1, 1), bias=False)\n",
              "    (34): BatchNorm2d(10, eps=1e-05, momentum=0.1, affine=True, track_running_stats=True)\n",
              "    (35): ReLU(inplace=True)\n",
              "    (36): Conv2d(10, 19, kernel_size=(3, 3), stride=(1, 1), padding=(1, 1), bias=False)\n",
              "    (37): BatchNorm2d(19, eps=1e-05, momentum=0.1, affine=True, track_running_stats=True)\n",
              "    (38): ReLU(inplace=True)\n",
              "    (39): MaxPool2d(kernel_size=2, stride=2, padding=0, dilation=1, ceil_mode=False)\n",
              "    (40): Conv2d(19, 18, kernel_size=(3, 3), stride=(1, 1), padding=(1, 1), bias=False)\n",
              "    (41): BatchNorm2d(18, eps=1e-05, momentum=0.1, affine=True, track_running_stats=True)\n",
              "    (42): ReLU(inplace=True)\n",
              "    (43): Conv2d(18, 11, kernel_size=(3, 3), stride=(1, 1), padding=(1, 1), bias=False)\n",
              "    (44): BatchNorm2d(11, eps=1e-05, momentum=0.1, affine=True, track_running_stats=True)\n",
              "    (45): ReLU(inplace=True)\n",
              "    (46): Conv2d(11, 13, kernel_size=(3, 3), stride=(1, 1), padding=(1, 1), bias=False)\n",
              "    (47): BatchNorm2d(13, eps=1e-05, momentum=0.1, affine=True, track_running_stats=True)\n",
              "    (48): ReLU(inplace=True)\n",
              "    (49): Conv2d(13, 13, kernel_size=(3, 3), stride=(1, 1), padding=(1, 1), bias=False)\n",
              "    (50): BatchNorm2d(13, eps=1e-05, momentum=0.1, affine=True, track_running_stats=True)\n",
              "    (51): ReLU(inplace=True)\n",
              "  )\n",
              "  (classifier): Linear(in_features=13, out_features=10, bias=True)\n",
              ")"
            ]
          },
          "execution_count": 22,
          "metadata": {},
          "output_type": "execute_result"
        }
      ],
      "source": [
        "newmodel = vgg(cfg=cfg)\n",
        "newmodel.cuda()"
      ]
    },
    {
      "cell_type": "markdown",
      "metadata": {
        "id": "ms9Usgkh1Vbe"
      },
      "source": [
        "###將原本的模型權重複製到剪枝的模型\n",
        "####1.決定該層的輸入與輸出Channel\n",
        "####2.根據不同層決定要複製什麼權重\n",
        "######Batch Normalization Layer\n",
        "1.   scale factor\n",
        "2.   bias\n",
        "3.   running mean\n",
        "4.   running variance\n",
        "\n",
        "######Convolutional Layer\n",
        "1.   weight\n",
        "2.   bias\n",
        "\n",
        "######Linear Layer\n",
        "1.   weight\n",
        "2.   bias\n",
        "\n"
      ]
    },
    {
      "cell_type": "code",
      "execution_count": 23,
      "metadata": {
        "id": "hQcKuMDee46V"
      },
      "outputs": [],
      "source": [
        "layer_id_in_cfg = 0\n",
        "start_mask = torch.ones(3) #3為input channel(R,G,B)\n",
        "end_mask = cfg_mask[layer_id_in_cfg]\n",
        "count = 0\n",
        "for [m0, m1] in zip(model.modules(), newmodel.modules()):\n",
        "    if isinstance(m0, nn.BatchNorm2d):\n",
        "\n",
        "        # 處理剪枝後的權重\n",
        "        m0.weight.data.mul_(end_mask)\n",
        "        m0.bias.data.mul_(end_mask)\n",
        "\n",
        "        #### 找出遮罩中非零元素的index ####\n",
        "        ################################################\n",
        "        idx1 = np.squeeze(np.argwhere(np.asarray(end_mask.cpu().numpy())))\n",
        "        ################################################\n",
        "\n",
        "\n",
        "        # 將原本模型的權重複製到剪枝模型的權重\n",
        "\n",
        "        #### 複製weight與bias ####\n",
        "        ################################################\n",
        "        m1.weight.data = m0.weight.data[idx1].clone()\n",
        "        m1.bias.data = m0.bias.data[idx1].clone()\n",
        "        ################################################\n",
        "      \n",
        "\n",
        "        #### 複製running mean跟running variance ####\n",
        "        ################################################\n",
        "        m1.running_mean = m0.running_mean[idx1].clone()\n",
        "        m1.running_var = m0.running_var[idx1].clone()\n",
        "        ################################################\n",
        "        \n",
        "\n",
        "        layer_id_in_cfg += 1\n",
        "        start_mask = end_mask.clone()\n",
        "        \n",
        "        #最後一層連接層不做修改\n",
        "        if layer_id_in_cfg < len(cfg_mask):\n",
        "            end_mask = cfg_mask[layer_id_in_cfg]\n",
        "    elif isinstance(m0, nn.Conv2d):\n",
        "        # 將原本模型的捲積層權重複製到對應剪枝模型卷積層的權重\n",
        "        idx0 = np.squeeze(np.argwhere(np.asarray(start_mask.cpu().numpy())))\n",
        "        idx1 = np.squeeze(np.argwhere(np.asarray(end_mask.cpu().numpy())))\n",
        "\n",
        "        w = m0.weight.data[:, idx0, :, :].clone()\n",
        "        w = w[idx1, :, :, :].clone()\n",
        "        m1.weight.data = w.clone()\n",
        "        #m1.bias.data = m0.bias.data[idx1].clone()\n",
        "    elif isinstance(m0, nn.Linear):\n",
        "        # 參考 https://pytorch.org/docs/stable/generated/torch.nn.Linear.html 來決定該如何複製Linear Layer參數\n",
        "\n",
        "        idx0 = np.squeeze(np.argwhere(np.asarray(start_mask.cpu().numpy())))\n",
        "\n",
        "        #### 複製weight ####\n",
        "        ################################################\n",
        "        m1.weight.data = m0.weight.data[:, idx0].clone()\n",
        "        ################################################        \n",
        "\n",
        "\n",
        "        #### 複製bias #### \n",
        "        ################################################\n",
        "        m1.bias.data = m0.bias.data.clone()\n",
        "        ################################################"
      ]
    },
    {
      "cell_type": "markdown",
      "metadata": {
        "id": "AFkMmFLo88mc"
      },
      "source": [
        "####儲存模型並印出結果\n"
      ]
    },
    {
      "cell_type": "code",
      "execution_count": 24,
      "metadata": {
        "colab": {
          "base_uri": "https://localhost:8080/"
        },
        "id": "cuo3HXHt9Ar-",
        "outputId": "b2f0baa2-6049-43ca-a0d0-e20ef0d1a69b"
      },
      "outputs": [
        {
          "name": "stdout",
          "output_type": "stream",
          "text": [
            "vgg(\n",
            "  (feature): Sequential(\n",
            "    (0): Conv2d(3, 17, kernel_size=(3, 3), stride=(1, 1), padding=(1, 1), bias=False)\n",
            "    (1): BatchNorm2d(17, eps=1e-05, momentum=0.1, affine=True, track_running_stats=True)\n",
            "    (2): ReLU(inplace=True)\n",
            "    (3): Conv2d(17, 44, kernel_size=(3, 3), stride=(1, 1), padding=(1, 1), bias=False)\n",
            "    (4): BatchNorm2d(44, eps=1e-05, momentum=0.1, affine=True, track_running_stats=True)\n",
            "    (5): ReLU(inplace=True)\n",
            "    (6): MaxPool2d(kernel_size=2, stride=2, padding=0, dilation=1, ceil_mode=False)\n",
            "    (7): Conv2d(44, 54, kernel_size=(3, 3), stride=(1, 1), padding=(1, 1), bias=False)\n",
            "    (8): BatchNorm2d(54, eps=1e-05, momentum=0.1, affine=True, track_running_stats=True)\n",
            "    (9): ReLU(inplace=True)\n",
            "    (10): Conv2d(54, 65, kernel_size=(3, 3), stride=(1, 1), padding=(1, 1), bias=False)\n",
            "    (11): BatchNorm2d(65, eps=1e-05, momentum=0.1, affine=True, track_running_stats=True)\n",
            "    (12): ReLU(inplace=True)\n",
            "    (13): MaxPool2d(kernel_size=2, stride=2, padding=0, dilation=1, ceil_mode=False)\n",
            "    (14): Conv2d(65, 78, kernel_size=(3, 3), stride=(1, 1), padding=(1, 1), bias=False)\n",
            "    (15): BatchNorm2d(78, eps=1e-05, momentum=0.1, affine=True, track_running_stats=True)\n",
            "    (16): ReLU(inplace=True)\n",
            "    (17): Conv2d(78, 57, kernel_size=(3, 3), stride=(1, 1), padding=(1, 1), bias=False)\n",
            "    (18): BatchNorm2d(57, eps=1e-05, momentum=0.1, affine=True, track_running_stats=True)\n",
            "    (19): ReLU(inplace=True)\n",
            "    (20): Conv2d(57, 56, kernel_size=(3, 3), stride=(1, 1), padding=(1, 1), bias=False)\n",
            "    (21): BatchNorm2d(56, eps=1e-05, momentum=0.1, affine=True, track_running_stats=True)\n",
            "    (22): ReLU(inplace=True)\n",
            "    (23): Conv2d(56, 44, kernel_size=(3, 3), stride=(1, 1), padding=(1, 1), bias=False)\n",
            "    (24): BatchNorm2d(44, eps=1e-05, momentum=0.1, affine=True, track_running_stats=True)\n",
            "    (25): ReLU(inplace=True)\n",
            "    (26): MaxPool2d(kernel_size=2, stride=2, padding=0, dilation=1, ceil_mode=False)\n",
            "    (27): Conv2d(44, 26, kernel_size=(3, 3), stride=(1, 1), padding=(1, 1), bias=False)\n",
            "    (28): BatchNorm2d(26, eps=1e-05, momentum=0.1, affine=True, track_running_stats=True)\n",
            "    (29): ReLU(inplace=True)\n",
            "    (30): Conv2d(26, 25, kernel_size=(3, 3), stride=(1, 1), padding=(1, 1), bias=False)\n",
            "    (31): BatchNorm2d(25, eps=1e-05, momentum=0.1, affine=True, track_running_stats=True)\n",
            "    (32): ReLU(inplace=True)\n",
            "    (33): Conv2d(25, 10, kernel_size=(3, 3), stride=(1, 1), padding=(1, 1), bias=False)\n",
            "    (34): BatchNorm2d(10, eps=1e-05, momentum=0.1, affine=True, track_running_stats=True)\n",
            "    (35): ReLU(inplace=True)\n",
            "    (36): Conv2d(10, 19, kernel_size=(3, 3), stride=(1, 1), padding=(1, 1), bias=False)\n",
            "    (37): BatchNorm2d(19, eps=1e-05, momentum=0.1, affine=True, track_running_stats=True)\n",
            "    (38): ReLU(inplace=True)\n",
            "    (39): MaxPool2d(kernel_size=2, stride=2, padding=0, dilation=1, ceil_mode=False)\n",
            "    (40): Conv2d(19, 18, kernel_size=(3, 3), stride=(1, 1), padding=(1, 1), bias=False)\n",
            "    (41): BatchNorm2d(18, eps=1e-05, momentum=0.1, affine=True, track_running_stats=True)\n",
            "    (42): ReLU(inplace=True)\n",
            "    (43): Conv2d(18, 11, kernel_size=(3, 3), stride=(1, 1), padding=(1, 1), bias=False)\n",
            "    (44): BatchNorm2d(11, eps=1e-05, momentum=0.1, affine=True, track_running_stats=True)\n",
            "    (45): ReLU(inplace=True)\n",
            "    (46): Conv2d(11, 13, kernel_size=(3, 3), stride=(1, 1), padding=(1, 1), bias=False)\n",
            "    (47): BatchNorm2d(13, eps=1e-05, momentum=0.1, affine=True, track_running_stats=True)\n",
            "    (48): ReLU(inplace=True)\n",
            "    (49): Conv2d(13, 13, kernel_size=(3, 3), stride=(1, 1), padding=(1, 1), bias=False)\n",
            "    (50): BatchNorm2d(13, eps=1e-05, momentum=0.1, affine=True, track_running_stats=True)\n",
            "    (51): ReLU(inplace=True)\n",
            "  )\n",
            "  (classifier): Linear(in_features=13, out_features=10, bias=True)\n",
            ")\n",
            "Files already downloaded and verified\n",
            "\n",
            "Test set: Accuracy: 9040/10000 (90.4%)\n",
            "\n"
          ]
        },
        {
          "data": {
            "text/plain": [
              "tensor(0.9040)"
            ]
          },
          "execution_count": 24,
          "metadata": {},
          "output_type": "execute_result"
        }
      ],
      "source": [
        "torch.save({'cfg': cfg, 'state_dict': newmodel.state_dict()}, PRUNE_PATH)\n",
        "\n",
        "print(newmodel)\n",
        "model = newmodel\n",
        "test(newmodel)"
      ]
    },
    {
      "cell_type": "code",
      "execution_count": null,
      "metadata": {
        "id": "3R4O1SabiIUX"
      },
      "outputs": [],
      "source": []
    }
  ],
  "metadata": {
    "accelerator": "GPU",
    "colab": {
      "provenance": []
    },
    "gpuClass": "standard",
    "kernelspec": {
      "display_name": "Python 3",
      "name": "python3"
    },
    "language_info": {
      "name": "python"
    }
  },
  "nbformat": 4,
  "nbformat_minor": 0
}
