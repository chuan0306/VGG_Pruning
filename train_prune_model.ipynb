{
  "nbformat": 4,
  "nbformat_minor": 0,
  "metadata": {
    "colab": {
      "provenance": []
    },
    "kernelspec": {
      "name": "python3",
      "display_name": "Python 3"
    },
    "language_info": {
      "name": "python"
    },
    "accelerator": "GPU",
    "gpuClass": "standard"
  },
  "cells": [
    {
      "cell_type": "markdown",
      "source": [
        "##掛載雲端硬碟\n"
      ],
      "metadata": {
        "id": "U3at1mhslz9v"
      }
    },
    {
      "cell_type": "code",
      "source": [
        "from google.colab import drive\n",
        "drive.mount('/content/drive')"
      ],
      "metadata": {
        "id": "ijtFdN9tl14V",
        "colab": {
          "base_uri": "https://localhost:8080/"
        },
        "outputId": "f10c9342-dd5d-42df-c3a5-377b86ec8c8b"
      },
      "execution_count": 29,
      "outputs": [
        {
          "output_type": "stream",
          "name": "stdout",
          "text": [
            "Drive already mounted at /content/drive; to attempt to forcibly remount, call drive.mount(\"/content/drive\", force_remount=True).\n"
          ]
        }
      ]
    },
    {
      "cell_type": "markdown",
      "source": [
        "##複製Lab5檔案到目前目錄"
      ],
      "metadata": {
        "id": "q5bhyRZrl4X2"
      }
    },
    {
      "cell_type": "code",
      "source": [
        "!cp -a /content/drive/MyDrive/Colab\\ Notebooks/* ./"
      ],
      "metadata": {
        "id": "f2RXiD5Bl6a2"
      },
      "execution_count": 30,
      "outputs": []
    },
    {
      "cell_type": "markdown",
      "source": [
        "## Import libarary"
      ],
      "metadata": {
        "id": "gSal5HL0lTHA"
      }
    },
    {
      "cell_type": "code",
      "source": [
        "from __future__ import print_function\n",
        "import os\n",
        "import argparse\n",
        "\n",
        "import torch\n",
        "import torch.nn as nn\n",
        "import torch.nn.functional as F\n",
        "import torch.optim as optim\n",
        "from torchvision import datasets, transforms\n",
        "from torch.autograd import Variable\n",
        "import matplotlib.pyplot as plt\n",
        "\n",
        "from models import vgg"
      ],
      "metadata": {
        "id": "6v2iM_kglWj-"
      },
      "execution_count": 31,
      "outputs": []
    },
    {
      "cell_type": "markdown",
      "source": [
        "## 設定超參數"
      ],
      "metadata": {
        "id": "yFgiQGL6mq6W"
      }
    },
    {
      "cell_type": "code",
      "source": [
        "TRAIN_BATCH_SIZE = 100\n",
        "TEST_BATCH_SIZE = 1000\n",
        "EPOCHS = 10\n",
        "LEARNING_RATE = 0.1\n",
        "MOMENTUM = 0.9\n",
        "WEIGHT_DECAY = 1e-4\n",
        "LOG_INTERVAL = 100\n",
        "CUDA = True\n",
        "SEED = 1\n",
        "\n",
        "RESUME = True\n",
        "START_EPOCH = 0\n",
        "accuracy = []\n",
        "iteration = []\n",
        "\n",
        "PRUNE_PATH = '/content/drive/MyDrive/Colab Notebooks/model_prune.pth'\n",
        "PRUNE_FINETUNE_PATH = '/content/drive/MyDrive/Colab Notebooks/model_prune_finetune.pth'\n"
      ],
      "metadata": {
        "id": "a8FQ-IsUmqtP"
      },
      "execution_count": 32,
      "outputs": []
    },
    {
      "cell_type": "markdown",
      "source": [
        "####檢查是否檢查是否可使用GPU"
      ],
      "metadata": {
        "id": "Yk2vUEvtE8H3"
      }
    },
    {
      "cell_type": "code",
      "source": [
        "if(torch.cuda.is_available()):\n",
        "    CUDA = True\n",
        "    kwargs = {'num_workers': 1, 'pin_memory': True}\n",
        "    torch.cuda.manual_seed(SEED)\n",
        "else:\n",
        "    CUDA = False\n",
        "    kwargs = {}\n"
      ],
      "metadata": {
        "id": "_Sa1Tmnym3Pn"
      },
      "execution_count": 33,
      "outputs": []
    },
    {
      "cell_type": "markdown",
      "source": [
        "##下載資料集\n"
      ],
      "metadata": {
        "id": "fylf4FTlm7QX"
      }
    },
    {
      "cell_type": "markdown",
      "source": [
        "這裡將訓練集做Augmentation(Pad, RandCrop, Random)，測試集不用做Augmentation"
      ],
      "metadata": {
        "id": "erS9S_76nUsG"
      }
    },
    {
      "cell_type": "code",
      "source": [
        "#### DATASET ####\n",
        "train_loader = torch.utils.data.DataLoader(\n",
        "    datasets.CIFAR10('./data', train=True, download=True,\n",
        "                   transform=transforms.Compose([\n",
        "                       transforms.Pad(4),\n",
        "                       transforms.RandomCrop(32),\n",
        "                       transforms.RandomHorizontalFlip(),\n",
        "                       transforms.ToTensor(),\n",
        "                       transforms.Normalize((0.5, 0.5, 0.5), (0.5, 0.5, 0.5))\n",
        "                   ])),\n",
        "    batch_size=TRAIN_BATCH_SIZE, shuffle=True, **kwargs)\n",
        "test_loader = torch.utils.data.DataLoader(\n",
        "    datasets.CIFAR10('./data', train=False, transform=transforms.Compose([\n",
        "                       transforms.ToTensor(),\n",
        "                       transforms.Normalize((0.5, 0.5, 0.5), (0.5, 0.5, 0.5))\n",
        "                   ])),\n",
        "    batch_size=TEST_BATCH_SIZE, shuffle=True, **kwargs)"
      ],
      "metadata": {
        "id": "vBW21uIHm_C-",
        "colab": {
          "base_uri": "https://localhost:8080/"
        },
        "outputId": "cc459c9c-bcde-4a00-9660-7908ff827182"
      },
      "execution_count": 34,
      "outputs": [
        {
          "output_type": "stream",
          "name": "stdout",
          "text": [
            "Files already downloaded and verified\n"
          ]
        }
      ]
    },
    {
      "cell_type": "markdown",
      "source": [
        "## 載入剪枝後的網路與權重"
      ],
      "metadata": {
        "id": "Is49FKBbuRj2"
      }
    },
    {
      "cell_type": "code",
      "source": [
        "model = None\n",
        "if(RESUME):\n",
        "  checkpoint = torch.load(PRUNE_PATH)\n",
        "  model = vgg(cfg=checkpoint['cfg'])\n",
        "  model.load_state_dict(checkpoint['state_dict'])\n",
        "\n",
        "  print('RESUME PRUNE MODEL')\n",
        "\n",
        "if CUDA:\n",
        "    model.cuda()"
      ],
      "metadata": {
        "id": "SUbUcHN4uQ89",
        "colab": {
          "base_uri": "https://localhost:8080/"
        },
        "outputId": "4409db4f-af08-4ee0-b8a0-564167ec654c"
      },
      "execution_count": 35,
      "outputs": [
        {
          "output_type": "stream",
          "name": "stdout",
          "text": [
            "RESUME PRUNE MODEL\n"
          ]
        }
      ]
    },
    {
      "cell_type": "markdown",
      "source": [
        "##設定Optimizer，這裡使用Stocastic Gradient Descent with "
      ],
      "metadata": {
        "id": "ZC8ECoKHu7iF"
      }
    },
    {
      "cell_type": "code",
      "source": [
        "optimizer = optim.SGD(model.parameters(), lr=LEARNING_RATE, momentum=MOMENTUM, weight_decay=WEIGHT_DECAY)"
      ],
      "metadata": {
        "id": "EQ-soeyWvGyM"
      },
      "execution_count": 36,
      "outputs": []
    },
    {
      "cell_type": "markdown",
      "source": [
        "## 定義訓練跟測試函數"
      ],
      "metadata": {
        "id": "gR2UTh0iwbEF"
      }
    },
    {
      "cell_type": "code",
      "execution_count": 37,
      "metadata": {
        "id": "hQcKuMDee46V",
        "colab": {
          "base_uri": "https://localhost:8080/"
        },
        "outputId": "f13e74c8-01ab-45e9-cf99-1b2105e4046d"
      },
      "outputs": [
        {
          "output_type": "stream",
          "name": "stdout",
          "text": [
            "\n",
            "Train Epoch: 0 [0/50000 (0.0%)]\tLoss: 0.094931\n",
            "\n",
            "Train Epoch: 0 [10000/50000 (20.0%)]\tLoss: 1.027452\n",
            "\n",
            "Train Epoch: 0 [20000/50000 (40.0%)]\tLoss: 0.662943\n",
            "\n",
            "Train Epoch: 0 [30000/50000 (60.0%)]\tLoss: 0.819277\n",
            "\n",
            "Train Epoch: 0 [40000/50000 (80.0%)]\tLoss: 0.590501\n"
          ]
        },
        {
          "output_type": "stream",
          "name": "stderr",
          "text": [
            "/usr/local/lib/python3.8/dist-packages/torch/nn/_reduction.py:42: UserWarning: size_average and reduce args will be deprecated, please use reduction='sum' instead.\n",
            "  warnings.warn(warning.format(ret))\n"
          ]
        },
        {
          "output_type": "stream",
          "name": "stdout",
          "text": [
            "\n",
            "Test set: Average loss: 1.3350, Accuracy: 6488/10000 (64.9%)\n",
            "\n",
            "\n",
            "Train Epoch: 1 [0/50000 (0.0%)]\tLoss: 0.681969\n",
            "\n",
            "Train Epoch: 1 [10000/50000 (20.0%)]\tLoss: 0.671367\n",
            "\n",
            "Train Epoch: 1 [20000/50000 (40.0%)]\tLoss: 0.736085\n",
            "\n",
            "Train Epoch: 1 [30000/50000 (60.0%)]\tLoss: 0.758523\n",
            "\n",
            "Train Epoch: 1 [40000/50000 (80.0%)]\tLoss: 0.607689\n",
            "\n",
            "Test set: Average loss: 0.6884, Accuracy: 7825/10000 (78.2%)\n",
            "\n",
            "\n",
            "Train Epoch: 2 [0/50000 (0.0%)]\tLoss: 0.409589\n",
            "\n",
            "Train Epoch: 2 [10000/50000 (20.0%)]\tLoss: 0.661380\n",
            "\n",
            "Train Epoch: 2 [20000/50000 (40.0%)]\tLoss: 0.549578\n",
            "\n",
            "Train Epoch: 2 [30000/50000 (60.0%)]\tLoss: 0.402716\n",
            "\n",
            "Train Epoch: 2 [40000/50000 (80.0%)]\tLoss: 0.387917\n",
            "\n",
            "Test set: Average loss: 0.6247, Accuracy: 8035/10000 (80.3%)\n",
            "\n",
            "\n",
            "Train Epoch: 3 [0/50000 (0.0%)]\tLoss: 0.603370\n",
            "\n",
            "Train Epoch: 3 [10000/50000 (20.0%)]\tLoss: 0.323196\n",
            "\n",
            "Train Epoch: 3 [20000/50000 (40.0%)]\tLoss: 0.427664\n",
            "\n",
            "Train Epoch: 3 [30000/50000 (60.0%)]\tLoss: 0.371580\n",
            "\n",
            "Train Epoch: 3 [40000/50000 (80.0%)]\tLoss: 0.513190\n",
            "\n",
            "Test set: Average loss: 0.7184, Accuracy: 7892/10000 (78.9%)\n",
            "\n",
            "\n",
            "Train Epoch: 4 [0/50000 (0.0%)]\tLoss: 0.322252\n",
            "\n",
            "Train Epoch: 4 [10000/50000 (20.0%)]\tLoss: 0.476601\n",
            "\n",
            "Train Epoch: 4 [20000/50000 (40.0%)]\tLoss: 0.565646\n",
            "\n",
            "Train Epoch: 4 [30000/50000 (60.0%)]\tLoss: 0.557127\n",
            "\n",
            "Train Epoch: 4 [40000/50000 (80.0%)]\tLoss: 0.351852\n",
            "\n",
            "Test set: Average loss: 0.5362, Accuracy: 8316/10000 (83.2%)\n",
            "\n",
            "\n",
            "Train Epoch: 5 [0/50000 (0.0%)]\tLoss: 0.241350\n",
            "\n",
            "Train Epoch: 5 [10000/50000 (20.0%)]\tLoss: 0.410741\n",
            "\n",
            "Train Epoch: 5 [20000/50000 (40.0%)]\tLoss: 0.228345\n",
            "\n",
            "Train Epoch: 5 [30000/50000 (60.0%)]\tLoss: 0.158772\n",
            "\n",
            "Train Epoch: 5 [40000/50000 (80.0%)]\tLoss: 0.358862\n",
            "\n",
            "Test set: Average loss: 0.3457, Accuracy: 8909/10000 (89.1%)\n",
            "\n",
            "\n",
            "Train Epoch: 6 [0/50000 (0.0%)]\tLoss: 0.258249\n",
            "\n",
            "Train Epoch: 6 [10000/50000 (20.0%)]\tLoss: 0.343429\n",
            "\n",
            "Train Epoch: 6 [20000/50000 (40.0%)]\tLoss: 0.123721\n",
            "\n",
            "Train Epoch: 6 [30000/50000 (60.0%)]\tLoss: 0.376317\n",
            "\n",
            "Train Epoch: 6 [40000/50000 (80.0%)]\tLoss: 0.214537\n",
            "\n",
            "Test set: Average loss: 0.3401, Accuracy: 8921/10000 (89.2%)\n",
            "\n",
            "\n",
            "Train Epoch: 7 [0/50000 (0.0%)]\tLoss: 0.206897\n",
            "\n",
            "Train Epoch: 7 [10000/50000 (20.0%)]\tLoss: 0.288071\n",
            "\n",
            "Train Epoch: 7 [20000/50000 (40.0%)]\tLoss: 0.242413\n",
            "\n",
            "Train Epoch: 7 [30000/50000 (60.0%)]\tLoss: 0.229687\n",
            "\n",
            "Train Epoch: 7 [40000/50000 (80.0%)]\tLoss: 0.177171\n",
            "\n",
            "Test set: Average loss: 0.3366, Accuracy: 8927/10000 (89.3%)\n",
            "\n",
            "\n",
            "Train Epoch: 8 [0/50000 (0.0%)]\tLoss: 0.255283\n",
            "\n",
            "Train Epoch: 8 [10000/50000 (20.0%)]\tLoss: 0.217479\n",
            "\n",
            "Train Epoch: 8 [20000/50000 (40.0%)]\tLoss: 0.215757\n",
            "\n",
            "Train Epoch: 8 [30000/50000 (60.0%)]\tLoss: 0.313612\n",
            "\n",
            "Train Epoch: 8 [40000/50000 (80.0%)]\tLoss: 0.117381\n",
            "\n",
            "Test set: Average loss: 0.3339, Accuracy: 8951/10000 (89.5%)\n",
            "\n",
            "\n",
            "Train Epoch: 9 [0/50000 (0.0%)]\tLoss: 0.204646\n",
            "\n",
            "Train Epoch: 9 [10000/50000 (20.0%)]\tLoss: 0.319308\n",
            "\n",
            "Train Epoch: 9 [20000/50000 (40.0%)]\tLoss: 0.305689\n",
            "\n",
            "Train Epoch: 9 [30000/50000 (60.0%)]\tLoss: 0.146883\n",
            "\n",
            "Train Epoch: 9 [40000/50000 (80.0%)]\tLoss: 0.146124\n",
            "\n",
            "Test set: Average loss: 0.3341, Accuracy: 8979/10000 (89.8%)\n",
            "\n",
            "\n",
            " TRAIN PRUNED MODEL DONE!\n"
          ]
        }
      ],
      "source": [
        "#### 訓練函數 #####\n",
        "def train(epoch):\n",
        "    model.train() \n",
        "    for batch_idx, (data, target) in enumerate(train_loader):\n",
        "        if CUDA:\n",
        "            data, target = data.cuda(), target.cuda()\n",
        "        data, target = Variable(data), Variable(target)\n",
        "        optimizer.zero_grad()\n",
        "        output = model(data)\n",
        "        loss = F.cross_entropy(output, target)\n",
        "        loss.backward()\n",
        "        optimizer.step()\n",
        "        if batch_idx % LOG_INTERVAL == 0:\n",
        "            print('\\nTrain Epoch: {} [{}/{} ({:.1f}%)]\\tLoss: {:.6f}'.format(\n",
        "                epoch, batch_idx * len(data), len(train_loader.dataset),\n",
        "                100. * batch_idx / len(train_loader), loss.data.item()))\n",
        "#### 測試函數 ####\n",
        "def test():\n",
        "    model.eval()\n",
        "    test_loss = 0\n",
        "    correct = 0\n",
        "    \n",
        "    with torch.no_grad():\n",
        "      for data, target in test_loader:\n",
        "          if CUDA:\n",
        "              data, target = data.cuda(), target.cuda()\n",
        "          data, target = Variable(data), Variable(target)\n",
        "          output = model(data)\n",
        "          test_loss += F.cross_entropy(output, target, size_average=False).data.item()\n",
        "          pred = output.data.max(1, keepdim=True)[1]\n",
        "          correct += pred.eq(target.data.view_as(pred)).cpu().sum()\n",
        "\n",
        "      test_loss /= len(test_loader.dataset)\n",
        "      print('\\nTest set: Average loss: {:.4f}, Accuracy: {}/{} ({:.1f}%)\\n'.format(\n",
        "          test_loss, correct, len(test_loader.dataset),\n",
        "          100. * correct / len(test_loader.dataset)))\n",
        "      accuracy.append(100. * correct / len(test_loader.dataset))\n",
        "      return correct / float(len(test_loader.dataset))\n",
        "\n",
        "\n",
        "best_prec1 = 0.\n",
        "for epoch in range(START_EPOCH, EPOCHS):\n",
        "    # Learning Rate在0.5EPOCHS與0.75EPOCHS調整為原本之十分之一\n",
        "    if epoch in [EPOCHS*0.5, EPOCHS*0.75]:\n",
        "        for param_group in optimizer.param_groups:\n",
        "            param_group['lr'] *= 0.1\n",
        "    train(epoch)\n",
        "    prec1 = test()\n",
        "\n",
        "    # 儲存模型權重，方便做後續剪枝,後續訓練\n",
        "    if(prec1 > best_prec1):\n",
        "        torch.save({\n",
        "            'epoch': epoch + 1,\n",
        "            'state_dict': model.state_dict(),\n",
        "            'best_prec1': best_prec1,\n",
        "            'optimizer': optimizer.state_dict(),\n",
        "        }, PRUNE_FINETUNE_PATH)\n",
        "        \n",
        "    best_prec1 = max(prec1, best_prec1)\n",
        "\n",
        "print('\\n TRAIN PRUNED MODEL DONE!')\n"
      ]
    },
    {
      "cell_type": "code",
      "source": [
        "for i in range(10):\n",
        "  i+=1\n",
        "  iteration.append(i)"
      ],
      "metadata": {
        "id": "dLUEGpHtl8mg"
      },
      "execution_count": 39,
      "outputs": []
    },
    {
      "cell_type": "code",
      "source": [
        "# plt.title(\"Accuracy of train set\")\n",
        "plt.plot(iteration, accuracy, color=\"red\")\n",
        "plt.ylabel(\"Accuracy\")\n",
        "plt,plt.xlabel(\"Iteration\")\n",
        "plt.show()  "
      ],
      "metadata": {
        "colab": {
          "base_uri": "https://localhost:8080/",
          "height": 279
        },
        "id": "JanzbNdiiWYR",
        "outputId": "85a7d385-7cd8-467a-ffae-16b9b7d1c829"
      },
      "execution_count": 42,
      "outputs": [
        {
          "output_type": "display_data",
          "data": {
            "text/plain": [
              "<Figure size 432x288 with 1 Axes>"
            ],
            "image/png": "[encoded data removed]"
          },
          "metadata": {
            "needs_background": "light"
          }
        }
      ]
    }
  ]
}